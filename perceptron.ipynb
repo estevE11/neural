{
 "cells": [
  {
   "cell_type": "code",
   "execution_count": 73,
   "metadata": {},
   "outputs": [],
   "source": [
    "import numpy as np\n",
    "import matplotlib.pyplot as plt"
   ]
  },
  {
   "cell_type": "code",
   "execution_count": 74,
   "metadata": {},
   "outputs": [],
   "source": [
    "f = lambda x: x*3-0.5"
   ]
  },
  {
   "cell_type": "code",
   "execution_count": 88,
   "metadata": {},
   "outputs": [],
   "source": [
    "class Point:\n",
    "    def __init__(self, x, y):\n",
    "        self.pos = [x, y, 1]\n",
    "        if f(x) > y:\n",
    "            self.g = 1\n",
    "        else:\n",
    "            self.g = -1"
   ]
  },
  {
   "cell_type": "code",
   "execution_count": 89,
   "metadata": {},
   "outputs": [],
   "source": [
    "class Perceptron:\n",
    "    def __init__(self, func):\n",
    "        self.weights = np.random.rand(3)*2-1\n",
    "        self.func = func\n",
    "\n",
    "    # out: int\n",
    "    def forward(self, input):\n",
    "        sum = 0\n",
    "        for i, w in enumerate(self.weights):\n",
    "            sum += w * input[i]\n",
    "        return self.func(sum)\n",
    "\n",
    "    def train(self, examples, lr=0.01):\n",
    "        for pt in examples:\n",
    "            out = self.forward(pt.pos)\n",
    "            err = pt.g - out\n",
    "            for i in range(len(self.weights)):\n",
    "                self.weights[i] += err * pt.pos[i] * lr\n"
   ]
  },
  {
   "cell_type": "code",
   "execution_count": 90,
   "metadata": {},
   "outputs": [],
   "source": [
    "def activation(x):\n",
    "    if x >= 0:\n",
    "        return 1\n",
    "    return -1"
   ]
  },
  {
   "cell_type": "code",
   "execution_count": 91,
   "metadata": {},
   "outputs": [
    {
     "data": {
      "image/png": "[encoded data removed]",
      "text/plain": [
       "<Figure size 432x288 with 1 Axes>"
      ]
     },
     "metadata": {
      "needs_background": "light"
     },
     "output_type": "display_data"
    }
   ],
   "source": [
    "perc = Perceptron(activation)\n",
    "points = np.random.rand(10000, 2)\n",
    "examples = []\n",
    "\n",
    "for pt in points:\n",
    "    examples.append(Point(pt[0], pt[1]))\n",
    "\n",
    "perc.train(examples)\n",
    "\n",
    "for _ in np.random.rand(100, 2):\n",
    "    pt = Point(_[0], _[1])\n",
    "    out = perc.forward(pt.pos)\n",
    "\n",
    "    c = \"red\"\n",
    "    if pt.g == out:\n",
    "        if out == 1:\n",
    "            c = \"green\"\n",
    "        else:\n",
    "            c = \"yellow\"\n",
    "\n",
    "    plt.plot(pt.pos[0], pt.pos[1], \"o\", c=c)\n",
    "\n",
    "space = np.linspace(0, 1)\n",
    "plt.plot(space, f(space))\n",
    "\n",
    "plt.show()"
   ]
  }
 ],
 "metadata": {
  "interpreter": {
   "hash": "80402aed2349a7d59130d8cc6272cd63d27db2c6fc9288ad1920cefc77364c47"
  },
  "kernelspec": {
   "display_name": "Python 3 (ipykernel)",
   "language": "python",
   "name": "python3"
  },
  "language_info": {
   "codemirror_mode": {
    "name": "ipython",
    "version": 3
   },
   "file_extension": ".py",
   "mimetype": "text/x-python",
   "name": "python",
   "nbconvert_exporter": "python",
   "pygments_lexer": "ipython3",
   "version": "3.9.8"
  }
 },
 "nbformat": 4,
 "nbformat_minor": 2
}
