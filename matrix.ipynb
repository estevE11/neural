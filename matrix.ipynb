{
 "cells": [
  {
   "cell_type": "code",
   "execution_count": 9,
   "metadata": {},
   "outputs": [],
   "source": [
    "import numpy as np\n",
    "import matplotlib.pyplot as plt"
   ]
  },
  {
   "cell_type": "code",
   "execution_count": 87,
   "metadata": {},
   "outputs": [
    {
     "data": {
      "text/plain": [
       "array([[100., 100.],\n",
       "       [100., 100.]])"
      ]
     },
     "execution_count": 87,
     "metadata": {},
     "output_type": "execute_result"
    }
   ],
   "source": [
    "class Matrix:\n",
    "    def __init__(self, cols, rows):\n",
    "        self.matrix = np.zeros((cols, rows))\n",
    "\n",
    "    def mirror(self):\n",
    "        return Matrix(len(self.matrix[0]), len(self.matrix))\n",
    "\n",
    "    def set(self, mat):\n",
    "        self.matrix = mat\n",
    "        return self\n",
    "    \n",
    "    def __mul__(self, other):\n",
    "        res = self.mirror()\n",
    "        if isinstance(other, int) or isinstance(other, float):\n",
    "            for y in range(len(self.matrix)):\n",
    "                for x in range(len(self.matrix[0])):\n",
    "                    res.matrix[y][x] = self.matrix[y][x] * other\n",
    "        return res\n",
    "\n",
    "    def __add__(self, other):\n",
    "        res = self.mirror()\n",
    "        if isinstance(other, int) or isinstance(other, float):\n",
    "            for y in range(len(self.matrix)):\n",
    "                for x in range(len(self.matrix[0])):\n",
    "                    res.matrix[y][x] = self.matrix[y][x] + other\n",
    "        elif isinstance(other, Matrix):\n",
    "            for y in range(len(self.matrix)):\n",
    "                for x in range(len(self.matrix[0])):\n",
    "                    res.matrix[y][x] = self.matrix[y][x] + other.matrix[y][x]\n",
    "        return res\n",
    "\n",
    "\n",
    "a = Matrix(2, 2)\n",
    "b = Matrix(2, 2)\n",
    "a.matrix\n",
    "a = a + 10\n",
    "a = a * 10\n",
    "a.matrix"
   ]
  },
  {
   "cell_type": "code",
   "execution_count": 102,
   "metadata": {},
   "outputs": [
    {
     "data": {
      "text/plain": [
       "(array([[4., 8., 7., 3.]]),\n",
       " array([[0., 3., 0.],\n",
       "        [2., 7., 4.],\n",
       "        [3., 9., 6.],\n",
       "        [9., 0., 5.]]))"
      ]
     },
     "execution_count": 102,
     "metadata": {},
     "output_type": "execute_result"
    }
   ],
   "source": [
    "c = np.floor(np.random.rand(1, 4)*10)\n",
    "d = np.floor(np.random.rand(4, 3)*10)\n",
    "c, d"
   ]
  },
  {
   "cell_type": "code",
   "execution_count": 103,
   "metadata": {},
   "outputs": [
    {
     "data": {
      "text/plain": [
       "array([[ 64., 131.,  89.]])"
      ]
     },
     "execution_count": 103,
     "metadata": {},
     "output_type": "execute_result"
    }
   ],
   "source": [
    "np.dot(c, d)"
   ]
  },
  {
   "cell_type": "code",
   "execution_count": 196,
   "metadata": {},
   "outputs": [
    {
     "data": {
      "text/plain": [
       "array([[0.85398451]])"
      ]
     },
     "execution_count": 196,
     "metadata": {},
     "output_type": "execute_result"
    }
   ],
   "source": [
    "# neural network test\n",
    "\n",
    "layers = [2, 8, 10, 1]\n",
    "weights = []\n",
    "\n",
    "# activation\n",
    "sig = lambda x: 1/(1+(np.e**(-x)))\n",
    "\n",
    "# generate weight matrix\n",
    "for i in range(1, len(layers)):\n",
    "    current = np.random.rand(layers[i-1], layers[i]) * 2 - 1\n",
    "    weights.append(current)\n",
    "\n",
    "#forward\n",
    "input = np.floor(np.random.rand(1, 2)*10)\n",
    "for w in weights:\n",
    "    input = input @ w\n",
    "    for i in range(len(input[0])):\n",
    "        input[0][i] = sig(input[0][i])\n",
    "\n",
    "input"
   ]
  }
 ],
 "metadata": {
  "interpreter": {
   "hash": "80402aed2349a7d59130d8cc6272cd63d27db2c6fc9288ad1920cefc77364c47"
  },
  "kernelspec": {
   "display_name": "Python 3.8.5 32-bit",
   "language": "python",
   "name": "python3"
  },
  "language_info": {
   "codemirror_mode": {
    "name": "ipython",
    "version": 3
   },
   "file_extension": ".py",
   "mimetype": "text/x-python",
   "name": "python",
   "nbconvert_exporter": "python",
   "pygments_lexer": "ipython3",
   "version": "3.8.5"
  },
  "orig_nbformat": 4
 },
 "nbformat": 4,
 "nbformat_minor": 2
}
